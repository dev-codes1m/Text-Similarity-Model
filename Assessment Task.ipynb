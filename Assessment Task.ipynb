{
 "cells": [
  {
   "cell_type": "code",
   "execution_count": 1,
   "id": "abcb188c",
   "metadata": {},
   "outputs": [],
   "source": [
    "import numpy as np\n",
    "import pandas as pd"
   ]
  },
  {
   "cell_type": "code",
   "execution_count": 2,
   "id": "fa95069a",
   "metadata": {},
   "outputs": [],
   "source": [
    "data = pd.read_csv('Precily_Text_Similarity.csv',index_col=None)"
   ]
  },
  {
   "cell_type": "code",
   "execution_count": 3,
   "id": "d636b082",
   "metadata": {},
   "outputs": [
    {
     "data": {
      "text/html": [
       "<div>\n",
       "<style scoped>\n",
       "    .dataframe tbody tr th:only-of-type {\n",
       "        vertical-align: middle;\n",
       "    }\n",
       "\n",
       "    .dataframe tbody tr th {\n",
       "        vertical-align: top;\n",
       "    }\n",
       "\n",
       "    .dataframe thead th {\n",
       "        text-align: right;\n",
       "    }\n",
       "</style>\n",
       "<table border=\"1\" class=\"dataframe\">\n",
       "  <thead>\n",
       "    <tr style=\"text-align: right;\">\n",
       "      <th></th>\n",
       "      <th>text1</th>\n",
       "      <th>text2</th>\n",
       "    </tr>\n",
       "  </thead>\n",
       "  <tbody>\n",
       "    <tr>\n",
       "      <th>0</th>\n",
       "      <td>broadband challenges tv viewing the number of ...</td>\n",
       "      <td>gardener wins double in glasgow britain s jaso...</td>\n",
       "    </tr>\n",
       "    <tr>\n",
       "      <th>1</th>\n",
       "      <td>rap boss arrested over drug find rap mogul mar...</td>\n",
       "      <td>amnesty chief laments war failure the lack of ...</td>\n",
       "    </tr>\n",
       "    <tr>\n",
       "      <th>2</th>\n",
       "      <td>player burn-out worries robinson england coach...</td>\n",
       "      <td>hanks greeted at wintry premiere hollywood sta...</td>\n",
       "    </tr>\n",
       "    <tr>\n",
       "      <th>3</th>\n",
       "      <td>hearts of oak 3-2 cotonsport hearts of oak set...</td>\n",
       "      <td>redford s vision of sundance despite sporting ...</td>\n",
       "    </tr>\n",
       "    <tr>\n",
       "      <th>4</th>\n",
       "      <td>sir paul rocks super bowl crowds sir paul mcca...</td>\n",
       "      <td>mauresmo opens with victory in la amelie maure...</td>\n",
       "    </tr>\n",
       "  </tbody>\n",
       "</table>\n",
       "</div>"
      ],
      "text/plain": [
       "                                               text1  \\\n",
       "0  broadband challenges tv viewing the number of ...   \n",
       "1  rap boss arrested over drug find rap mogul mar...   \n",
       "2  player burn-out worries robinson england coach...   \n",
       "3  hearts of oak 3-2 cotonsport hearts of oak set...   \n",
       "4  sir paul rocks super bowl crowds sir paul mcca...   \n",
       "\n",
       "                                               text2  \n",
       "0  gardener wins double in glasgow britain s jaso...  \n",
       "1  amnesty chief laments war failure the lack of ...  \n",
       "2  hanks greeted at wintry premiere hollywood sta...  \n",
       "3  redford s vision of sundance despite sporting ...  \n",
       "4  mauresmo opens with victory in la amelie maure...  "
      ]
     },
     "execution_count": 3,
     "metadata": {},
     "output_type": "execute_result"
    }
   ],
   "source": [
    "data.head()"
   ]
  },
  {
   "cell_type": "code",
   "execution_count": 4,
   "id": "a2ea9c75",
   "metadata": {},
   "outputs": [
    {
     "name": "stderr",
     "output_type": "stream",
     "text": [
      "[nltk_data] Downloading package stopwords to\n",
      "[nltk_data]     C:\\Users\\devan\\AppData\\Roaming\\nltk_data...\n",
      "[nltk_data]   Package stopwords is already up-to-date!\n"
     ]
    }
   ],
   "source": [
    "import nltk.corpus\n",
    "import re\n",
    "nltk.download('stopwords')\n",
    "from nltk.corpus import stopwords\n",
    "import nltk\n",
    "from nltk import word_tokenize\n",
    "from nltk.stem.porter import PorterStemmer\n",
    "from nltk.stem import WordNetLemmatizer\n",
    "stop = stopwords.words('english')\n",
    "stemmer = PorterStemmer()"
   ]
  },
  {
   "cell_type": "code",
   "execution_count": 5,
   "id": "f162f916",
   "metadata": {},
   "outputs": [],
   "source": [
    "def text_cleaning(text):\n",
    "    text = re.sub(r\"(@\\[A-Za-z0-9]+)|([^0-9A-Za-z \\t])|(\\w+:\\/\\/\\S+)|^rt|http.+?\", \"\", text)\n",
    "    text = \" \".join([word for word in text.split() if word not in (stop)])\n",
    "    text = word_tokenize(text)\n",
    "    stem_words = []\n",
    "    for word in text:\n",
    "        stem_words.append(stemmer.stem(word))\n",
    "        stem_words.append(\" \")\n",
    "    return \"\".join(stem_words)"
   ]
  },
  {
   "cell_type": "code",
   "execution_count": 6,
   "id": "9c6862f4",
   "metadata": {},
   "outputs": [],
   "source": [
    "text = 'My Name is Devanshu Mishra and i am cse student'"
   ]
  },
  {
   "cell_type": "code",
   "execution_count": 7,
   "id": "25ba2bae",
   "metadata": {},
   "outputs": [],
   "source": [
    "data['text1'] = data['text1'].apply(lambda x:text_cleaning(str(x)))\n",
    "data['text2'] = data['text2'].apply(lambda x:text_cleaning(str(x)))\n"
   ]
  },
  {
   "cell_type": "code",
   "execution_count": 8,
   "id": "29d0f757",
   "metadata": {},
   "outputs": [
    {
     "data": {
      "text/html": [
       "<div>\n",
       "<style scoped>\n",
       "    .dataframe tbody tr th:only-of-type {\n",
       "        vertical-align: middle;\n",
       "    }\n",
       "\n",
       "    .dataframe tbody tr th {\n",
       "        vertical-align: top;\n",
       "    }\n",
       "\n",
       "    .dataframe thead th {\n",
       "        text-align: right;\n",
       "    }\n",
       "</style>\n",
       "<table border=\"1\" class=\"dataframe\">\n",
       "  <thead>\n",
       "    <tr style=\"text-align: right;\">\n",
       "      <th></th>\n",
       "      <th>text1</th>\n",
       "      <th>text2</th>\n",
       "    </tr>\n",
       "  </thead>\n",
       "  <tbody>\n",
       "    <tr>\n",
       "      <th>0</th>\n",
       "      <td>broadband challeng tv view number european bro...</td>\n",
       "      <td>garden win doubl glasgow britain jason garden ...</td>\n",
       "    </tr>\n",
       "    <tr>\n",
       "      <th>1</th>\n",
       "      <td>rap boss arrest drug find rap mogul marion sug...</td>\n",
       "      <td>amnesti chief lament war failur lack public ou...</td>\n",
       "    </tr>\n",
       "    <tr>\n",
       "      <th>2</th>\n",
       "      <td>player burnout worri robinson england coach an...</td>\n",
       "      <td>hank greet wintri premier hollywood star tom h...</td>\n",
       "    </tr>\n",
       "    <tr>\n",
       "      <th>3</th>\n",
       "      <td>heart oak 32 cotonsport heart oak set ghanaian...</td>\n",
       "      <td>redford vision sundanc despit sport corduroy c...</td>\n",
       "    </tr>\n",
       "    <tr>\n",
       "      <th>4</th>\n",
       "      <td>sir paul rock super bowl crowd sir paul mccart...</td>\n",
       "      <td>mauresmo open victori la ameli mauresmo maria ...</td>\n",
       "    </tr>\n",
       "    <tr>\n",
       "      <th>...</th>\n",
       "      <td>...</td>\n",
       "      <td>...</td>\n",
       "    </tr>\n",
       "    <tr>\n",
       "      <th>2995</th>\n",
       "      <td>uk director guild nomine name martin scorses c...</td>\n",
       "      <td>steel firm cut 45 000 job mittal steel one wor...</td>\n",
       "    </tr>\n",
       "    <tr>\n",
       "      <th>2996</th>\n",
       "      <td>u2 play grammi award show irish rock band u2 p...</td>\n",
       "      <td>israel look us bank chief israel ask us banker...</td>\n",
       "    </tr>\n",
       "    <tr>\n",
       "      <th>2997</th>\n",
       "      <td>pountney hand ban fine northampton coach budg ...</td>\n",
       "      <td>india iran ga export deal india sign 40bn 21bn...</td>\n",
       "    </tr>\n",
       "    <tr>\n",
       "      <th>2998</th>\n",
       "      <td>bell name best scottish band bell sebastian na...</td>\n",
       "      <td>mido make third apolog ahm mido hossam made an...</td>\n",
       "    </tr>\n",
       "    <tr>\n",
       "      <th>2999</th>\n",
       "      <td>crimin probe citigroup deal trader us bank gia...</td>\n",
       "      <td>former ni minist scott die former northern ire...</td>\n",
       "    </tr>\n",
       "  </tbody>\n",
       "</table>\n",
       "<p>3000 rows × 2 columns</p>\n",
       "</div>"
      ],
      "text/plain": [
       "                                                  text1  \\\n",
       "0     broadband challeng tv view number european bro...   \n",
       "1     rap boss arrest drug find rap mogul marion sug...   \n",
       "2     player burnout worri robinson england coach an...   \n",
       "3     heart oak 32 cotonsport heart oak set ghanaian...   \n",
       "4     sir paul rock super bowl crowd sir paul mccart...   \n",
       "...                                                 ...   \n",
       "2995  uk director guild nomine name martin scorses c...   \n",
       "2996  u2 play grammi award show irish rock band u2 p...   \n",
       "2997  pountney hand ban fine northampton coach budg ...   \n",
       "2998  bell name best scottish band bell sebastian na...   \n",
       "2999  crimin probe citigroup deal trader us bank gia...   \n",
       "\n",
       "                                                  text2  \n",
       "0     garden win doubl glasgow britain jason garden ...  \n",
       "1     amnesti chief lament war failur lack public ou...  \n",
       "2     hank greet wintri premier hollywood star tom h...  \n",
       "3     redford vision sundanc despit sport corduroy c...  \n",
       "4     mauresmo open victori la ameli mauresmo maria ...  \n",
       "...                                                 ...  \n",
       "2995  steel firm cut 45 000 job mittal steel one wor...  \n",
       "2996  israel look us bank chief israel ask us banker...  \n",
       "2997  india iran ga export deal india sign 40bn 21bn...  \n",
       "2998  mido make third apolog ahm mido hossam made an...  \n",
       "2999  former ni minist scott die former northern ire...  \n",
       "\n",
       "[3000 rows x 2 columns]"
      ]
     },
     "execution_count": 8,
     "metadata": {},
     "output_type": "execute_result"
    }
   ],
   "source": [
    "data"
   ]
  },
  {
   "cell_type": "code",
   "execution_count": 9,
   "id": "3984c3e5",
   "metadata": {},
   "outputs": [],
   "source": [
    "# data['text1'] = data['text1'].apply(lambda x:word_tokenize(x))\n",
    "# data['text2'] = data['text2'].apply(lambda x:word_tokenize(x))\n"
   ]
  },
  {
   "cell_type": "code",
   "execution_count": 10,
   "id": "5525e3d8",
   "metadata": {},
   "outputs": [],
   "source": [
    "from sklearn.feature_extraction.text import TfidfVectorizer\n",
    "import gensim\n",
    "vectorizer = TfidfVectorizer()\n",
    "def cosine_sim(text1, text2):\n",
    "    tfidf = vectorizer.fit_transform([text1, text2])\n",
    "    return round(((tfidf * tfidf.T).A)[0,1],3)"
   ]
  },
  {
   "cell_type": "code",
   "execution_count": 11,
   "id": "c749f846",
   "metadata": {},
   "outputs": [],
   "source": [
    "lst = []"
   ]
  },
  {
   "cell_type": "code",
   "execution_count": 12,
   "id": "e8c6018b",
   "metadata": {},
   "outputs": [],
   "source": [
    "for i in range(len(data)):\n",
    "    text1 = data['text1'][i]\n",
    "    text2 = data['text2'][i]\n",
    "    lst.append(cosine_sim(text1,text2))"
   ]
  },
  {
   "cell_type": "code",
   "execution_count": 13,
   "id": "4120d510",
   "metadata": {},
   "outputs": [],
   "source": [
    "data['similarity'] = lst"
   ]
  },
  {
   "cell_type": "code",
   "execution_count": 14,
   "id": "258f9157",
   "metadata": {},
   "outputs": [],
   "source": [
    "data.to_csv('Final_Output.csv')"
   ]
  },
  {
   "cell_type": "code",
   "execution_count": 16,
   "id": "36c56c5e",
   "metadata": {},
   "outputs": [
    {
     "data": {
      "text/html": [
       "<div>\n",
       "<style scoped>\n",
       "    .dataframe tbody tr th:only-of-type {\n",
       "        vertical-align: middle;\n",
       "    }\n",
       "\n",
       "    .dataframe tbody tr th {\n",
       "        vertical-align: top;\n",
       "    }\n",
       "\n",
       "    .dataframe thead th {\n",
       "        text-align: right;\n",
       "    }\n",
       "</style>\n",
       "<table border=\"1\" class=\"dataframe\">\n",
       "  <thead>\n",
       "    <tr style=\"text-align: right;\">\n",
       "      <th></th>\n",
       "      <th>text1</th>\n",
       "      <th>text2</th>\n",
       "      <th>similarity</th>\n",
       "    </tr>\n",
       "  </thead>\n",
       "  <tbody>\n",
       "    <tr>\n",
       "      <th>0</th>\n",
       "      <td>broadband challeng tv view number european bro...</td>\n",
       "      <td>garden win doubl glasgow britain jason garden ...</td>\n",
       "      <td>0.062</td>\n",
       "    </tr>\n",
       "    <tr>\n",
       "      <th>1</th>\n",
       "      <td>rap boss arrest drug find rap mogul marion sug...</td>\n",
       "      <td>amnesti chief lament war failur lack public ou...</td>\n",
       "      <td>0.019</td>\n",
       "    </tr>\n",
       "    <tr>\n",
       "      <th>2</th>\n",
       "      <td>player burnout worri robinson england coach an...</td>\n",
       "      <td>hank greet wintri premier hollywood star tom h...</td>\n",
       "      <td>0.029</td>\n",
       "    </tr>\n",
       "    <tr>\n",
       "      <th>3</th>\n",
       "      <td>heart oak 32 cotonsport heart oak set ghanaian...</td>\n",
       "      <td>redford vision sundanc despit sport corduroy c...</td>\n",
       "      <td>0.018</td>\n",
       "    </tr>\n",
       "    <tr>\n",
       "      <th>4</th>\n",
       "      <td>sir paul rock super bowl crowd sir paul mccart...</td>\n",
       "      <td>mauresmo open victori la ameli mauresmo maria ...</td>\n",
       "      <td>0.051</td>\n",
       "    </tr>\n",
       "    <tr>\n",
       "      <th>...</th>\n",
       "      <td>...</td>\n",
       "      <td>...</td>\n",
       "      <td>...</td>\n",
       "    </tr>\n",
       "    <tr>\n",
       "      <th>2995</th>\n",
       "      <td>uk director guild nomine name martin scorses c...</td>\n",
       "      <td>steel firm cut 45 000 job mittal steel one wor...</td>\n",
       "      <td>0.007</td>\n",
       "    </tr>\n",
       "    <tr>\n",
       "      <th>2996</th>\n",
       "      <td>u2 play grammi award show irish rock band u2 p...</td>\n",
       "      <td>israel look us bank chief israel ask us banker...</td>\n",
       "      <td>0.055</td>\n",
       "    </tr>\n",
       "    <tr>\n",
       "      <th>2997</th>\n",
       "      <td>pountney hand ban fine northampton coach budg ...</td>\n",
       "      <td>india iran ga export deal india sign 40bn 21bn...</td>\n",
       "      <td>0.007</td>\n",
       "    </tr>\n",
       "    <tr>\n",
       "      <th>2998</th>\n",
       "      <td>bell name best scottish band bell sebastian na...</td>\n",
       "      <td>mido make third apolog ahm mido hossam made an...</td>\n",
       "      <td>0.040</td>\n",
       "    </tr>\n",
       "    <tr>\n",
       "      <th>2999</th>\n",
       "      <td>crimin probe citigroup deal trader us bank gia...</td>\n",
       "      <td>former ni minist scott die former northern ire...</td>\n",
       "      <td>0.033</td>\n",
       "    </tr>\n",
       "  </tbody>\n",
       "</table>\n",
       "<p>3000 rows × 3 columns</p>\n",
       "</div>"
      ],
      "text/plain": [
       "                                                  text1  \\\n",
       "0     broadband challeng tv view number european bro...   \n",
       "1     rap boss arrest drug find rap mogul marion sug...   \n",
       "2     player burnout worri robinson england coach an...   \n",
       "3     heart oak 32 cotonsport heart oak set ghanaian...   \n",
       "4     sir paul rock super bowl crowd sir paul mccart...   \n",
       "...                                                 ...   \n",
       "2995  uk director guild nomine name martin scorses c...   \n",
       "2996  u2 play grammi award show irish rock band u2 p...   \n",
       "2997  pountney hand ban fine northampton coach budg ...   \n",
       "2998  bell name best scottish band bell sebastian na...   \n",
       "2999  crimin probe citigroup deal trader us bank gia...   \n",
       "\n",
       "                                                  text2  similarity  \n",
       "0     garden win doubl glasgow britain jason garden ...       0.062  \n",
       "1     amnesti chief lament war failur lack public ou...       0.019  \n",
       "2     hank greet wintri premier hollywood star tom h...       0.029  \n",
       "3     redford vision sundanc despit sport corduroy c...       0.018  \n",
       "4     mauresmo open victori la ameli mauresmo maria ...       0.051  \n",
       "...                                                 ...         ...  \n",
       "2995  steel firm cut 45 000 job mittal steel one wor...       0.007  \n",
       "2996  israel look us bank chief israel ask us banker...       0.055  \n",
       "2997  india iran ga export deal india sign 40bn 21bn...       0.007  \n",
       "2998  mido make third apolog ahm mido hossam made an...       0.040  \n",
       "2999  former ni minist scott die former northern ire...       0.033  \n",
       "\n",
       "[3000 rows x 3 columns]"
      ]
     },
     "execution_count": 16,
     "metadata": {},
     "output_type": "execute_result"
    }
   ],
   "source": [
    "data"
   ]
  },
  {
   "cell_type": "code",
   "execution_count": null,
   "id": "8c1f2bb2",
   "metadata": {},
   "outputs": [],
   "source": []
  }
 ],
 "metadata": {
  "kernelspec": {
   "display_name": "Python 3 (ipykernel)",
   "language": "python",
   "name": "python3"
  },
  "language_info": {
   "codemirror_mode": {
    "name": "ipython",
    "version": 3
   },
   "file_extension": ".py",
   "mimetype": "text/x-python",
   "name": "python",
   "nbconvert_exporter": "python",
   "pygments_lexer": "ipython3",
   "version": "3.9.7"
  }
 },
 "nbformat": 4,
 "nbformat_minor": 5
}
